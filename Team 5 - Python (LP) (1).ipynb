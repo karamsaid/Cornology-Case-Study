{
 "cells": [
  {
   "cell_type": "code",
   "execution_count": 6,
   "id": "0210f2ec",
   "metadata": {},
   "outputs": [
    {
     "name": "stdout",
     "output_type": "stream",
     "text": [
      "Welcome to the CBC MILP Solver \n",
      "Version: 2.10.3 \n",
      "Build Date: Dec 15 2019 \n",
      "\n",
      "command line - /Users/joshuvajohn/opt/anaconda3/lib/python3.9/site-packages/pulp/apis/../solverdir/cbc/osx/64/cbc /var/folders/__/t0vk6gm17q3b_fw39syy_7nh0000gn/T/d3672ddfad9d411fbdf70d88ea5e0dcc-pulp.mps max timeMode elapsed branch printingOptions all solution /var/folders/__/t0vk6gm17q3b_fw39syy_7nh0000gn/T/d3672ddfad9d411fbdf70d88ea5e0dcc-pulp.sol (default strategy 1)\n",
      "At line 2 NAME          MODEL\n",
      "At line 3 ROWS\n",
      "At line 13 COLUMNS\n",
      "At line 74 RHS\n",
      "At line 83 BOUNDS\n",
      "At line 96 ENDATA\n",
      "Problem MODEL has 8 rows, 12 columns and 26 elements\n",
      "Coin0008I MODEL read with 0 errors\n",
      "Option for timeMode changed from cpu to elapsed\n",
      "Continuous objective value is 3.68e+06 - 0.00 seconds\n",
      "Cgl0002I 4 variables fixed\n",
      "Cgl0004I processed model has 1 rows, 4 columns (4 integer (4 of which binary)) and 4 elements\n",
      "Cutoff increment increased from 1e-05 to 0.9999\n",
      "Cbc0038I Initial state - 0 integers unsatisfied sum - 1.11022e-16\n",
      "Cbc0038I Solution found of -3.68e+06\n",
      "Cbc0038I Before mini branch and bound, 4 integers at bound fixed and 0 continuous\n",
      "Cbc0038I Mini branch and bound did not improve solution (0.01 seconds)\n",
      "Cbc0038I After 0.01 seconds - Feasibility pump exiting with objective of -3.68e+06 - took 0.00 seconds\n",
      "Cbc0012I Integer solution of -3680000 found by feasibility pump after 0 iterations and 0 nodes (0.01 seconds)\n",
      "Cbc0001I Search completed - best objective -3680000, took 0 iterations and 0 nodes (0.01 seconds)\n",
      "Cbc0035I Maximum depth 0, 0 variables fixed on reduced cost\n",
      "Cuts at root node changed objective from -3.68e+06 to -3.68e+06\n",
      "Probing was tried 0 times and created 0 cuts of which 0 were active after adding rounds of cuts (0.000 seconds)\n",
      "Gomory was tried 0 times and created 0 cuts of which 0 were active after adding rounds of cuts (0.000 seconds)\n",
      "Knapsack was tried 0 times and created 0 cuts of which 0 were active after adding rounds of cuts (0.000 seconds)\n",
      "Clique was tried 0 times and created 0 cuts of which 0 were active after adding rounds of cuts (0.000 seconds)\n",
      "MixedIntegerRounding2 was tried 0 times and created 0 cuts of which 0 were active after adding rounds of cuts (0.000 seconds)\n",
      "FlowCover was tried 0 times and created 0 cuts of which 0 were active after adding rounds of cuts (0.000 seconds)\n",
      "TwoMirCuts was tried 0 times and created 0 cuts of which 0 were active after adding rounds of cuts (0.000 seconds)\n",
      "ZeroHalf was tried 0 times and created 0 cuts of which 0 were active after adding rounds of cuts (0.000 seconds)\n",
      "\n",
      "Result - Optimal solution found\n",
      "\n",
      "Objective value:                3680000.00000000\n",
      "Enumerated nodes:               0\n",
      "Total iterations:               0\n",
      "Time (CPU seconds):             0.00\n",
      "Time (Wallclock seconds):       0.01\n",
      "\n",
      "Option for printingOptions changed from normal to all\n",
      "Total time (CPU seconds):       0.00   (Wallclock seconds):       0.01\n",
      "\n",
      "Decision variable values:\n",
      "F_NC = 1.0\n",
      "F_NE = 0.0\n",
      "F_SC = 1.0\n",
      "F_SE = 0.0\n",
      "F_WC = 0.0\n",
      "F_YR = 0.0\n",
      "O_NC = 1.0\n",
      "O_NE = 0.0\n",
      "O_SC = 1.0\n",
      "O_SE = 0.0\n",
      "O_WC = 0.0\n",
      "O_YR = 0.0\n",
      "\n",
      "Max. Profit : \n"
     ]
    },
    {
     "name": "stderr",
     "output_type": "stream",
     "text": [
      "/Users/joshuvajohn/opt/anaconda3/lib/python3.9/site-packages/pulp/pulp.py:1352: UserWarning: Spaces are not permitted in the name. Converted to '_'\n",
      "  warnings.warn(\"Spaces are not permitted in the name. Converted to '_'\")\n"
     ]
    },
    {
     "data": {
      "text/plain": [
       "3680000.0"
      ]
     },
     "execution_count": 6,
     "metadata": {},
     "output_type": "execute_result"
    }
   ],
   "source": [
    "import pulp\n",
    "\n",
    "\n",
    "## VARIABLES ##\n",
    "NE1= pulp.LpVariable('O-NE', lowBound=0, cat='Binary') ## Northeast - Org ##\n",
    "NE2= pulp.LpVariable('F-NE', lowBound=0, cat='Binary') ## Northeast - Flav ##\n",
    "YRD1= pulp.LpVariable('O-YR', lowBound=0, cat='Binary') ## YRD - Org ##\n",
    "YRD2= pulp.LpVariable('F-YR', lowBound=0, cat='Binary') ## YRD -  Flav ##\n",
    "SE1= pulp.LpVariable('O-SE', lowBound=0, cat='Binary') ## Southeast - Org ##\n",
    "SE2= pulp.LpVariable('F-SE', lowBound=0, cat='Binary') ## Southeast - Flav ##\n",
    "NC1= pulp.LpVariable('O-NC', lowBound=0, cat='Binary') ## North China - Org ##\n",
    "NC2= pulp.LpVariable('F-NC', lowBound=0, cat='Binary') ## North China - Flav ##\n",
    "SC1= pulp.LpVariable('O-SC', lowBound=0, cat='Binary') ## South China - Org ##\n",
    "SC2= pulp.LpVariable('F-SC', lowBound=0, cat='Binary') ## South China - Flav ##\n",
    "WC1= pulp.LpVariable('O-WC', lowBound=0, cat='Binary') ## West China - Org ##\n",
    "WC2= pulp.LpVariable('F-WC', lowBound=0, cat='Binary') ## West China - Flav ##\n",
    "\n",
    "profit = pulp.LpProblem('Max Profit',pulp.LpMaximize) ## Maximizing Profit ##\n",
    "profit += (12500*(0*NE1+ 180*YRD1 + 127*SE1+ 90*NC1+118*SC1+90*WC1)) + (7500*(70*NE2+112*YRD2+37*SE2+70*NC2+74*SC2+0*WC2)),'Objective function'\n",
    "\n",
    "profit += 0*NE1+2*YRD1+2*SE1+NC1+2*SC1+WC1+NE2+2*YRD2+SE2+NC2+SC2+0*WC2<=5 ## Max. Runs Constraint##\n",
    "profit +=NE1==NE2 ## Constraint for combining Org and Flav Demands in Northeast ##\n",
    "profit +=YRD1==YRD2 ## Constraint for combining Org and Flav Demands in YRD ##\n",
    "profit +=SE1==SE2 ## Constraint for combining Org and Flav Demands in Southeast##\n",
    "profit +=NC1==NC2 ## Constraint for combining Org and Flav Demands in North China ##\n",
    "profit +=SC1==SC2 ## Constraint for combining Org and Flav Demands in South China##\n",
    "profit +=WC1==WC2 ## Constraint for combining Org and Flav Demands in West China ##\n",
    "profit +=WC1+WC2+YRD1+YRD2==0 ## Excluding unfeasible region with max profit ##\n",
    "\n",
    "\n",
    "profit.solve() ## Solving LP ##\n",
    "\n",
    "print(\"Decision variable values:\") \n",
    "\n",
    "for variable in profit.variables(): ## Printing all the results for destnation location ##\n",
    "    print(variable.name,\"=\", variable.varValue) ## Output for selecting location - 1: Accepted & 0: Rejected ##\n",
    "\n",
    "print(\"\\nMax. Profit : \")\n",
    "pulp.value(profit.objective) ## Output for Optimalvalue ##"
   ]
  }
 ],
 "metadata": {
  "kernelspec": {
   "display_name": "Python 3 (ipykernel)",
   "language": "python",
   "name": "python3"
  },
  "language_info": {
   "codemirror_mode": {
    "name": "ipython",
    "version": 3
   },
   "file_extension": ".py",
   "mimetype": "text/x-python",
   "name": "python",
   "nbconvert_exporter": "python",
   "pygments_lexer": "ipython3",
   "version": "3.9.7"
  },
  "toc": {
   "base_numbering": 1,
   "nav_menu": {},
   "number_sections": true,
   "sideBar": true,
   "skip_h1_title": false,
   "title_cell": "Table of Contents",
   "title_sidebar": "Contents",
   "toc_cell": false,
   "toc_position": {},
   "toc_section_display": true,
   "toc_window_display": false
  },
  "varInspector": {
   "cols": {
    "lenName": 16,
    "lenType": 16,
    "lenVar": 40
   },
   "kernels_config": {
    "python": {
     "delete_cmd_postfix": "",
     "delete_cmd_prefix": "del ",
     "library": "var_list.py",
     "varRefreshCmd": "print(var_dic_list())"
    },
    "r": {
     "delete_cmd_postfix": ") ",
     "delete_cmd_prefix": "rm(",
     "library": "var_list.r",
     "varRefreshCmd": "cat(var_dic_list()) "
    }
   },
   "types_to_exclude": [
    "module",
    "function",
    "builtin_function_or_method",
    "instance",
    "_Feature"
   ],
   "window_display": false
  }
 },
 "nbformat": 4,
 "nbformat_minor": 5
}
